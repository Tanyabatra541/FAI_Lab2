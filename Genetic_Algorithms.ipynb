{
 "cells": [
  {
   "cell_type": "markdown",
   "id": "3099305b-df7d-41aa-ac56-7bc33d1e194d",
   "metadata": {},
   "source": [
    "Genetic Algorithms\n",
    "----\n",
    "\n",
    "Genetic Algorithms (GAs) are optimization inspired by the principles of natural selection and genetics, drawing inspiration from the \"survival of the fittest\". These algorithms are designed to mimic the process of natural selection to find approximate solutions to optimization and search problems. \n",
    "\n",
    "In a genetic algorithm, we generate several candidate solutions or chromosomes that form a 'population'. This population of solutions undergoes evolution using mutations and crossovers. Mutations are functions that introduce random changes to a chromosome (with some probability), and crossovers are functions that combine two solutions into a new, third 'offspring'. After the population undergoes mutation and produces an additional set of offspring solutions using crossovers, we retain some number of the best solutions from the total population. The process is repeated until the population converges. \n",
    "\n",
    "[Notes on Genetic Algorithms - Raj Venkat](https://venkat.prof/resources/AI/ch4#genetic_algo)\n",
    "\n",
    "For a more detailed write-up on Genetic Algorithms, visit : https://natureofcode.com/genetic-algorithms/"
   ]
  },
  {
   "cell_type": "markdown",
   "id": "50a6f357-6bcc-47ef-802e-f0a0e8e61fb8",
   "metadata": {},
   "source": [
    "In this section, we will try to solve linear regression using genetic algorithms.\n",
    "\n",
    "A line in $n$ dimensions is represented by the equation: $y = c_0 + c_1 x_1 + c_2 x_2 + \\dots + c_n x_n$\n",
    "\n",
    "Here, $\\{c_0, c_1, \\dots, c_n\\}$ are coefficients that we will try to optimize using genetic algorithms such that the line described by these coefficients best fits our data."
   ]
  },
  {
   "cell_type": "code",
   "execution_count": 2,
   "id": "35e9c980-f388-4807-bb6c-391403b57535",
   "metadata": {},
   "outputs": [],
   "source": [
    "import numpy as np\n",
    "import matplotlib.pyplot as plt"
   ]
  },
  {
   "cell_type": "markdown",
   "id": "f672a13c-2496-47d1-97ac-9bf1b459a2b3",
   "metadata": {},
   "source": [
    "**Data Generation**: For this lab, we will first generate some random data that roughly fits a line in 2 dimensions. \n",
    "\n",
    "To do so, we first pick a line (such as $y=2x+4$). Now for a given set of values of $x$, \\\n",
    "we can first generate a corresponding value of the $y$ coordinate by simply using the equation of the line, $y=2x=4$. \n",
    "\n",
    "These pairs ($x,y$) would lie exactly on the line. However, for our data to be a bit more realistic,\\\n",
    "we want the data points to be slightly away from the line in either direction.\n",
    "\n",
    "To achieve this, we can add a small random amount of noise $\\epsilon$ to each $y$ coordinate,\\\n",
    "offsetting the placement of the point in 2-D space away from the line by $\\epsilon$.\\\n",
    "Let us assume the noise lies in the range [$-5,5$]. Therefore, $\\epsilon = \\texttt{random}(-5,5)$ and $y=2x+4+\\epsilon$.\n",
    "\n",
    "In higher dimensions (e.g., for a plane in 3-D space $y=c_0 + c_1 x_1 + c_2 x_2$), for each point $\\mathbf{x} = [1, x_1, x_2, \\dots, x_n]^T$, given coefficients $\\mathbf{c}=[c_0, c_1, c_2, \\dots, c_n]$ we generate the corresponding points $\\mathbf{y}=\\mathbf{c}\\cdot \\mathbf{x} \\pm \\epsilon$."
   ]
  },
  {
   "cell_type": "code",
   "execution_count": 4,
   "id": "6d049f68-7fa8-40b9-afda-7e5deeb478b2",
   "metadata": {},
   "outputs": [],
   "source": [
    "def generate_data(coefficients):    \n",
    "    # TODO: generate a numpy array X of 100 random points with dimension len(coefficients)\n",
    "    # with each entry in the matrix X in the range [0,100]\n",
    "    # Ensure the value in the first (dummy) dimension is always 1, to account for the bias term (c_0).\n",
    "    X = np.random.rand(100, len(coefficients)) * 100\n",
    "    # For each point x in X, generate the corresponding value of y as y = c.x + epsilon\n",
    "    # Make sure epsilon is different for every point x, and lies in the range [-5,5]\n",
    "    # Use numpy operations instead of loops for efficiency\n",
    "    epsilon = np.random.rand(100) * 10 - 5\n",
    "    coefficients = np.array(coefficients)\n",
    "    y = X.dot(coefficients) + epsilon\n",
    "    return X, y, epsilon"
   ]
  },
  {
   "cell_type": "markdown",
   "id": "33f4b393-8f5b-4812-88a1-3893838f7f9d",
   "metadata": {},
   "source": [
    "Great! Now let's verify that your function behaves as expected, by generating some 2D data around the line $y=4+2x$, and visualizing it.\\\n",
    "Simply execute the cell below. You should expect to see data that *almost* lies along a straight line. "
   ]
  },
  {
   "cell_type": "code",
   "execution_count": 5,
   "id": "70f571e7-d4a6-4aea-935b-e40c0184e319",
   "metadata": {},
   "outputs": [
    {
     "data": {
      "text/plain": [
       "<matplotlib.collections.PathCollection at 0x127319340>"
      ]
     },
     "execution_count": 5,
     "metadata": {},
     "output_type": "execute_result"
    },
    {
     "data": {
      "image/png": "[encoded data removed]",
      "text/plain": [
       "<Figure size 640x480 with 1 Axes>"
      ]
     },
     "metadata": {},
     "output_type": "display_data"
    }
   ],
   "source": [
    "X_train, y_train, noise = generate_data([4,2])\n",
    "plt.scatter(X_train[:,1:], y_train) # Ignore dummy dimension while plotting"
   ]
  },
  {
   "cell_type": "markdown",
   "id": "edb3f7fb-35aa-417c-a3f5-3b015b17eb56",
   "metadata": {},
   "source": [
    "**Fitness Function**: We now define a function that will tell us how good a given solution is.\n",
    "Recall that a solution in this setting is simply a set of coefficients,\\\n",
    "so a single solution may look like the vector \\[4, 2\\].\n",
    "This particular solution, of course, is the optimal one, and what we hope our algorithm converges to.\n",
    "\n",
    "Also, recall that a given set of coefficients defines a line (in 2 dimensions, a plane in 3 dimensions...).\\\n",
    "The fitness function simply evaluates how well this line fits our data.\n",
    "\n",
    "For linear regression, we are interested in minimizing the distance between the line and all our data points.\\\n",
    "Define your fitness function below that leverages the **sum total** of the square of the vertical distances\\\n",
    "between the line and each data point. In other words, this is the residual sum of squared distances:\n",
    "$\\sum_{i=1}^n (y_i - c\\cdot x_i)^2$\n",
    "\n",
    "Since we are interested in minimizing the sum of squared distance, our *fitness* function should return the negative of the above quantity."
   ]
  },
  {
   "cell_type": "code",
   "execution_count": 6,
   "id": "238a3126-4423-4026-ab90-9ee60ebe8843",
   "metadata": {},
   "outputs": [],
   "source": [
    "def fitness_function(coefficients, X, y):\n",
    "    residual_sum_of_squares =  np.sum((y - X.dot(coefficients))**2)\n",
    "    return -residual_sum_of_squares  # returning the negative residual sum of squares"
   ]
  },
  {
   "cell_type": "markdown",
   "id": "f18511a2-2b03-4d06-bad6-d24466531ce1",
   "metadata": {},
   "source": [
    "**Population Initialization**: In the cell below, complete the function to initialize your population of candidate solutions\\\n",
    "or chromosome $\\mathbf{G} = \\{\\mathbf{g_1}, \\mathbf{g_2}, \\dots, \\mathbf{g_n}\\}$.\n",
    "Each candidate is a vector with as many entries as the number of coefficients.\\\n",
    "Each entry should be an integer in the range \\[-10,10\\].\n",
    "\n",
    "Define this as a numpy array to make operations easier and more efficient in later steps."
   ]
  },
  {
   "cell_type": "code",
   "execution_count": 7,
   "id": "5f040304-5d42-414c-b8b0-25d825a9185b",
   "metadata": {},
   "outputs": [],
   "source": [
    "def initialize_population(pop_size, num_coefficients):\n",
    "    population = np.random.randint(-10, 11, size=(pop_size, num_coefficients))\n",
    "    return population"
   ]
  },
  {
   "cell_type": "markdown",
   "id": "15c4f4ec-907b-4b11-bd27-ea6a146fbb6d",
   "metadata": {},
   "source": [
    "**Natural Selection**: We define three functions below that together represent the 'natural selection' aspect of GAs. \\\n",
    "Note that this lab presents only one of several variants of GAs; several complex strategies exist for each of these functions.\n",
    "\n",
    "1. Parent Selection - This function selects a subset of candidate solutions, that will then be combined to produce new offspring. <br /> This could be done using many strategies, but for simplicity, we assume that we pick the top 20% of solutions in terms of the fitness function.\n",
    "\n",
    "2. Crossover - A crossover operator combines two parent solutions into one or more offspring solutions. <br /> In this lab, we simply average the two parents (element-wise) to produce a single offspring. <br />For instance, if the parent solutions are \\[1,3,5\\] and \\[5,4,-8\\] respectively, then the crossover yields \\[(1+5)/2, (3+4)/2, (5-8)/2\\] = \\[3, 3.5, -1.5\\].\n",
    "\n",
    "3. Mutation - Finally, we make small changes to each new offspring solution with some small probability. <br />In this context, a change simply entails adding a small amount of noise to each dimension of each offspring chromosome<br /> (except the dummy dimension) with some probability $p$."
   ]
  },
  {
   "cell_type": "code",
   "execution_count": 8,
   "id": "ee03aed4-4475-4868-b332-3ab8dee15aa7",
   "metadata": {},
   "outputs": [],
   "source": [
    " # Function to select best fitted parents\n",
    "def select_parents(population, fitness):\n",
    "    selected_indices = np.argsort(-fitness)[:int(0.2*len(population)) if len(population)%2==0 else int(0.2*len(population))+1]\n",
    "    return population[selected_indices]\n",
    "\n",
    "# Function to perform crossover\n",
    "def crossover(parents):\n",
    "    return np.mean(parents, axis=0)\n",
    "\n",
    "# Function to perform mutation in genetic algorithms\n",
    "def mutate(individuals):\n",
    "    mutation_rate = 0.2\n",
    "    is_mutated = np.random.random((len(individuals), len(individuals[0]))) <= mutation_rate\n",
    "    mutation = np.random.randint(-5, 5, (len(individuals), len(individuals[0])))\n",
    "    return individuals + (is_mutated * mutation)"
   ]
  },
  {
   "cell_type": "markdown",
   "id": "9779181d-4f12-4bfc-83cd-e64e31c3f3a6",
   "metadata": {},
   "source": [
    "**TODO**\n",
    "\n",
    "Do you think these are the best possible variants of these operations for our task? Can you think of other implementations of the parent selection, crossover and mutation operators?\n",
    "\n",
    "Answer: \n",
    "The implementations of the genetic algorithm (GA) operations serve as a solid foundation for a basic GA. However, as with most evolutionary algorithms, there's a wide variety of ways each component can be implemented, each with its own set of advantages and disadvantages depending on the specific problem context. The alternatives are as follows:\n",
    "\n",
    "1. Parent Selection\n",
    "The above implementation selects the top 20% of solutions based on fitness, which is a form of truncation selection. This approach is straightforward and effective for ensuring that only the fittest individuals contribute genes to the next generation. However, it can lead to premature convergence and a loss of genetic diversity. Other methods include:\n",
    "\n",
    "- Tournament Selection: Selects a number of individuals randomly and then chooses the best out of these to become a parent. This method can maintain diversity better than truncation selection.\n",
    "- Roulette Wheel Selection: Individuals are selected based on their fitness proportionate to the total fitness of the population, which allows for a greater chance of selecting fitter individuals while still giving a chance to less fit individuals.\n",
    "- Rank Selection: Individuals are ranked based on their fitness, and the selection probability is determined based on this ranking rather than the fitness values directly, helping to avoid issues with scale.\n",
    "\n",
    "2. Crossover\n",
    "The above crossover operator averages two parents element-wise. This method is simple and preserves the mean of the parent genes, but it may not always introduce enough variability to explore the solution space effectively. Alternative methods include:\n",
    "\n",
    "- Single-Point Crossover: A point on the parent chromosomes is selected randomly, and the genes are exchanged between the two parents from this point to the end of the chromosome to create offspring.\n",
    "- Two-Point Crossover: Similar to single-point but involves two points. The genes between the two points are swapped between the parents, generating more diversity.\n",
    "- Uniform Crossover: For each gene, the offspring inherits the gene from either parent with equal probability, increasing genetic diversity.\n",
    "\n",
    "3. Mutation\n",
    "The above mutation approach randomly adds a small amount of noise to each dimension of each offspring with a certain probability. This can help maintain genetic diversity but might be too random. Other approaches include:\n",
    "\n",
    "- Gaussian Mutation: Adds a random value from a Gaussian distribution to the genes. This can be more natural for problems with a notion of small, incremental changes.\n",
    "- Adaptive Mutation Rates: Adjusting the mutation rate based on the progress of the algorithm. For example, starting with a higher mutation rate to explore the space and reducing it as the population converges to maintain diversity without losing good solutions.\n",
    "- Gene-specific Mutation Rates: Different genes might have different mutation rates based on their importance or expected variability in the problem domain.\n"
   ]
  },
  {
   "cell_type": "code",
   "execution_count": 13,
   "id": "ea4609fc-c716-47c7-b01d-38f7b43a5914",
   "metadata": {},
   "outputs": [],
   "source": [
    "# This function specifies a stop criteria, where we check the fitness function of the best chromosome from the pool.\n",
    "# Recall that the Residual Sum of Squares Error is minimized when the error is 0 (perfect fit), therefore the fitness\n",
    "# function (negative of RSS Error) has an upper bound of 0. The closer we are to 0, the better the fit. Here, we consider that an error of \n",
    "# greater than -3 is a good enough fit. Feel free to tweak this value and observe the effects.\n",
    "def meets_stop_criteria(best_error):\n",
    "    if best_error<=3:\n",
    "        return True\n",
    "    return False"
   ]
  },
  {
   "cell_type": "markdown",
   "id": "53dc4df3-6718-4523-8f32-005c0d39d89c",
   "metadata": {},
   "source": [
    "**Control Flow**: We now define the central logic of how our GA works. We initialize the population size and specify a number of generations for the algorithm to run. These values default to 10 and 20 respectively.\n",
    "\n",
    "Once we initialize a population, we compute every individual's fitness score and select the top 20% for crossover. From our list of parent chromosomes, we pick pairs at random without replacement and combine them using crossover (if we start with 10 parents, we get 5 offspring in this implementation). \n",
    "\n",
    "Each offspring chromosome is then mutated using the function we defined earlier. Finally, the generated offspring replace the same number of lowest-scoring individuals in the original population (i.e., if we have 5 offspring, then we replace the 5 lowest scoring individuals)."
   ]
  },
  {
   "cell_type": "code",
   "execution_count": 10,
   "id": "f9dd8dc2-c32e-4c3f-9c24-bd78609afdc8",
   "metadata": {},
   "outputs": [],
   "source": [
    "def genetic_algorithm(X, y, pop_size=10, num_generations=20):\n",
    "    num_coefficients = len(X[0])\n",
    "    population = initialize_population(pop_size, num_coefficients)\n",
    "    for generation in range(num_generations):\n",
    "        fitness = np.array([fitness_function(individual, X, y) for individual in population])\n",
    "        \n",
    "        #print(\"Fitness Scores: \", fitness)\n",
    "        parents = select_parents(population, fitness)\n",
    "        #print(\"Selected Parents: \", parents)\n",
    "\n",
    "        # Apply crossover to create new individuals by randomly pairing selected parents without replacement\n",
    "        # HINT: One possible implementation might combine np.random.shuffle, np.stack and list comprehension\n",
    "        offspring = [crossover((parents[i], parents[i+1])) for i in range(0, len(parents), 2)]\n",
    "\n",
    "        \n",
    "        #print(\"Offspring from Crossover: \", offspring) --> Uncomment for debugging\n",
    "\n",
    "        # Apply mutations to each offspring individual\n",
    "        offspring = mutate(offspring)\n",
    "        \n",
    "        #print(\"Offspring after Mutations: \", offspring) --> Uncomment for debugging\n",
    "\n",
    "        # Update population by replacing the k weakest chromosomes with the k generated offspring for the next generation\n",
    "        population[np.argsort(fitness)[:len(offspring)]] = offspring\n",
    "        \n",
    "        #print(\"Updated Population: \", population) --> Uncomment for debugging\n",
    "        \n",
    "        best_individual = population[np.argmax(fitness)]\n",
    "        best_error = fitness_function(best_individual, X, y)\n",
    "        #print(f\"Generation: {generation}, Best Error: {best_error})\n",
    "        if meets_stop_criteria(best_error):\n",
    "            break\n",
    "    return best_individual"
   ]
  },
  {
   "cell_type": "code",
   "execution_count": 11,
   "id": "8a08fcc2-2c8c-48bc-b1b3-759a292d6edc",
   "metadata": {},
   "outputs": [],
   "source": [
    "# Executes the genetic algorithm\n",
    "def run_genetic_algorithm(num_cofficients,population_size,num_generations):\n",
    "    X, y, epsilon = generate_data(num_cofficients)\n",
    "    \n",
    "    # Run genetic algorithm for linear regression\n",
    "    best_coefficients = genetic_algorithm(X, y,population_size,num_generations)\n",
    "    print(\"Best coefficients are:\", best_coefficients)"
   ]
  },
  {
   "cell_type": "code",
   "execution_count": 15,
   "id": "cb66dfa5-3040-49cc-b38c-7131c2dc1e68",
   "metadata": {},
   "outputs": [
    {
     "name": "stdout",
     "output_type": "stream",
     "text": [
      "Best coefficients are: [4 3 6 7 7]\n"
     ]
    }
   ],
   "source": [
    "# Feel free to experiment with these values\n",
    "cofficients = [2, 3, 6, 8, 10]\n",
    "population_size = 200\n",
    "num_generations = 600\n",
    "\n",
    "run_genetic_algorithm(cofficients, population_size, num_generations)"
   ]
  },
  {
   "cell_type": "markdown",
   "id": "97dec5fc-7ba4-4697-ab79-3dea2890f7fc",
   "metadata": {},
   "source": [
    "#TODO:\n",
    "How efficient do you think genetic algorithm defined was in getting the correct coefficients to solve the linear equations? What other tasks do you think genetic algorithms can solve?\n",
    "\n",
    "Answer:\n",
    "The genetic algorithm defined in this notebook is a simple and effective way to solve the linear regression problem. It is able to find the coefficients that minimize the sum of squared distances between the line and the data points. However, the efficiency of the algorithm depends on the problem and the specific implementation of the genetic algorithm operations. For the linear regression problem, the genetic algorithm can be quite effective, especially when the problem is complex and the search space is large.\n",
    "\n",
    "Genetic algorithms can be used to solve a wide variety of optimization problems, including:\n",
    "1. Function Optimization: Finding the maximum or minimum of a function, especially in cases where the function is non-linear, non-convex, or has many local optima.\n",
    "2. Feature Selection: Selecting the most relevant features from a large set of features to improve the performance of machine learning models.\n",
    "3. Scheduling Problems: Optimizing the allocation of resources, such as time, personnel, or equipment, to achieve specific objectives.\n",
    "4. Vehicle Routing: Finding the most efficient routes for vehicles to deliver goods or services to multiple locations.\n",
    "5. Neural Network Training: Optimizing the weights and biases of neural networks to improve their performance on specific tasks.\n",
    "6. Image Processing: Optimizing image processing algorithms to enhance image quality, remove noise, or detect specific features.\n",
    "\n",
    "In general, genetic algorithms can be applied to any problem that can be formulated as an optimization problem, especially when the search space is large and complex, and traditional optimization methods are not effective."
   ]
  }
 ],
 "metadata": {
  "kernelspec": {
   "display_name": "Python 3 (ipykernel)",
   "language": "python",
   "name": "python3"
  },
  "language_info": {
   "codemirror_mode": {
    "name": "ipython",
    "version": 3
   },
   "file_extension": ".py",
   "mimetype": "text/x-python",
   "name": "python",
   "nbconvert_exporter": "python",
   "pygments_lexer": "ipython3",
   "version": "3.9.6"
  }
 },
 "nbformat": 4,
 "nbformat_minor": 5
}
